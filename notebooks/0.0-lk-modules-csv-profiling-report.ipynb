{
 "cells": [
  {
   "cell_type": "markdown",
   "id": "90736fbf",
   "metadata": {},
   "source": [
    "Generates the profiling report for the raw data file *modules.csv*. This is then stored in `./reports`."
   ]
  },
  {
   "cell_type": "code",
   "execution_count": 19,
   "id": "562da8c8",
   "metadata": {},
   "outputs": [
    {
     "data": {
      "application/vnd.jupyter.widget-view+json": {
       "model_id": "4ca6b6a48bae457c927a029f30b9efe6",
       "version_major": 2,
       "version_minor": 0
      },
      "text/plain": [
       "Summarize dataset:   0%|          | 0/5 [00:00<?, ?it/s]"
      ]
     },
     "metadata": {},
     "output_type": "display_data"
    },
    {
     "data": {
      "application/vnd.jupyter.widget-view+json": {
       "model_id": "a700d00d942a4ecc8ca3496dce9c82ce",
       "version_major": 2,
       "version_minor": 0
      },
      "text/plain": [
       "Generate report structure:   0%|          | 0/1 [00:00<?, ?it/s]"
      ]
     },
     "metadata": {},
     "output_type": "display_data"
    },
    {
     "data": {
      "application/vnd.jupyter.widget-view+json": {
       "model_id": "9f9cfcdda68445cfb788c77314c6ab50",
       "version_major": 2,
       "version_minor": 0
      },
      "text/plain": [
       "Render HTML:   0%|          | 0/1 [00:00<?, ?it/s]"
      ]
     },
     "metadata": {},
     "output_type": "display_data"
    },
    {
     "data": {
      "application/vnd.jupyter.widget-view+json": {
       "model_id": "0ace78e2e6a947d5ade4e015c5862461",
       "version_major": 2,
       "version_minor": 0
      },
      "text/plain": [
       "Export report to file:   0%|          | 0/1 [00:00<?, ?it/s]"
      ]
     },
     "metadata": {},
     "output_type": "display_data"
    }
   ],
   "source": [
    "from pathlib import Path\n",
    "import pandas as pd\n",
    "from ydata_profiling import ProfileReport\n",
    "\n",
    "# location of modules.csv - get path of current working directory, then go up one level, then navigate to modules.csv in ./data/\n",
    "modules_path = Path.cwd().parent.joinpath('data/raw/modules.csv')\n",
    "# where to save profiling report in ./reports - done similarly to the above\n",
    "reports_path = Path.cwd().parent.joinpath('reports/modules_csv_profiling_report.html')\n",
    "\n",
    "# load modules.csv, semi-colon is the separator used in the file \n",
    "modules_raw = pd.read_csv(modules_path, sep = ';')\n",
    "\n",
    "# generate modules.csv profiling report and save to ./reports\n",
    "modules_profile = ProfileReport(modules_raw, title = 'modules.csv Profiling Report')\n",
    "modules_profile.to_file(reports_path)"
   ]
  }
 ],
 "metadata": {
  "kernelspec": {
   "display_name": "Python 3 (ipykernel)",
   "language": "python",
   "name": "python3"
  },
  "language_info": {
   "codemirror_mode": {
    "name": "ipython",
    "version": 3
   },
   "file_extension": ".py",
   "mimetype": "text/x-python",
   "name": "python",
   "nbconvert_exporter": "python",
   "pygments_lexer": "ipython3",
   "version": "3.9.12"
  }
 },
 "nbformat": 4,
 "nbformat_minor": 5
}
